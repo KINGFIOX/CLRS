{
 "cells": [
  {
   "cell_type": "code",
   "execution_count": 9,
   "id": "initial_id",
   "metadata": {
    "collapsed": true,
    "ExecuteTime": {
     "end_time": "2023-10-07T11:46:38.386248Z",
     "start_time": "2023-10-07T11:46:38.379489Z"
    }
   },
   "outputs": [],
   "source": [
    "sum = 100 + 100 + 100 + 99 + 100 + 95 + 95 + 100 + 100 + 100 * 2 + 95 * 3 + 100 + 90 + 90 + 2 * 100 + 80 + 96 + 95 * 2 + 4 * 100 + 95 + 2 * 100 + 99"
   ]
  },
  {
   "cell_type": "code",
   "execution_count": 10,
   "outputs": [
    {
     "data": {
      "text/plain": "97.2258064516129"
     },
     "execution_count": 10,
     "metadata": {},
     "output_type": "execute_result"
    }
   ],
   "source": [
    "sum / 31"
   ],
   "metadata": {
    "collapsed": false,
    "ExecuteTime": {
     "end_time": "2023-10-07T11:46:39.287661Z",
     "start_time": "2023-10-07T11:46:39.285371Z"
    }
   },
   "id": "4949276abba4606"
  },
  {
   "cell_type": "code",
   "execution_count": null,
   "outputs": [],
   "source": [],
   "metadata": {
    "collapsed": false
   },
   "id": "4e4eda1f67ea9faa"
  }
 ],
 "metadata": {
  "kernelspec": {
   "display_name": "Python 3",
   "language": "python",
   "name": "python3"
  },
  "language_info": {
   "codemirror_mode": {
    "name": "ipython",
    "version": 2
   },
   "file_extension": ".py",
   "mimetype": "text/x-python",
   "name": "python",
   "nbconvert_exporter": "python",
   "pygments_lexer": "ipython2",
   "version": "2.7.6"
  }
 },
 "nbformat": 4,
 "nbformat_minor": 5
}
